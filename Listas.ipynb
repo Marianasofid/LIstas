{
  "nbformat": 4,
  "nbformat_minor": 0,
  "metadata": {
    "colab": {
      "provenance": [],
      "authorship_tag": "ABX9TyNttsqd2qnwpAPXgWw4nUKl",
      "include_colab_link": true
    },
    "kernelspec": {
      "name": "python3",
      "display_name": "Python 3"
    },
    "language_info": {
      "name": "python"
    }
  },
  "cells": [
    {
      "cell_type": "markdown",
      "metadata": {
        "id": "view-in-github",
        "colab_type": "text"
      },
      "source": [
        "<a href=\"https://colab.research.google.com/github/Marianasofid/LIstas/blob/main/Listas.ipynb\" target=\"_parent\"><img src=\"https://colab.research.google.com/assets/colab-badge.svg\" alt=\"Open In Colab\"/></a>"
      ]
    },
    {
      "cell_type": "markdown",
      "source": [
        "# Listas\n",
        "\n",
        "- Una lista hace referencia a una coleccion de datos que pueden ser numeros, cadenas o algun otro tipo.\n",
        "- Son colecciones ordenadas de datos lo que implica que importa el orden en el cual se encuentran sus elementos.\n",
        "- El primer elemento ocupa la posicion 0, el segundo el 1 y asi sucesivamente.\n",
        "- Son mutables: una vez creada la lista esta puede modificarse, se pueden agregar o quitar elementos.\n",
        "- En Python estan representadas por el tipo ***list*** y para definirlas se utiliza la siguiente sintaxis:\n",
        "```nombre_lista = [valor1, valor2,..., valorn]```\n",
        "- LOs eelementos de una lista pueden ser de cualquier tipo, incluso puede haber tipos diferentes en una misma lista.\n",
        "- tambien es posible crear una lista usando el constructor ```list()```\n"
      ],
      "metadata": {
        "id": "Q5kailYMClM2"
      }
    },
    {
      "cell_type": "code",
      "execution_count": 3,
      "metadata": {
        "colab": {
          "base_uri": "https://localhost:8080/"
        },
        "id": "f0nzsFEYCbcx",
        "outputId": "ce63e90c-9d77-451a-fc51-1ad2578ed711"
      },
      "outputs": [
        {
          "output_type": "stream",
          "name": "stdout",
          "text": [
            "['Lunes', 'Martes', 'Miercoles', 'Jueves', 'Viernes']\n",
            "['Rojo', 'Amarillo', 'Azul']\n",
            "[205.3, 107.18, 25, 450, 310.89, 170.23, 340]\n",
            "<class 'list'>\n",
            "[0, 2, 4, 6, 8, 10, 12, 14, 16, 18, 20, 22, 24, 26, 28]\n",
            "[29, 27, 25, 23, 21, 19, 17, 15, 13, 11, 9, 7, 5, 3, 1]\n",
            "['M', 'a', 'r', 'i', 'a', 'n', 'a', ' ', 'S', 'o', 'f', 'i', 'a']\n",
            "['Mariana', 'Sofia', 'Delgado', 'Solano']\n"
          ]
        }
      ],
      "source": [
        "# Ejemplo 1\n",
        "\n",
        "# =========================================================\n",
        "# Usando los [] y dando valores para inicializar las listas\n",
        "# =========================================================\n",
        "\n",
        "dias_laborales = [\"Lunes\", \"Martes\", \"Miercoles\", \"Jueves\", \"Viernes\"]\n",
        "print(dias_laborales)\n",
        "\n",
        "colores_primarios = [\"Rojo\", \"Amarillo\", \"Azul\"]\n",
        "print(colores_primarios)\n",
        "\n",
        "precios = [205.30, 107.18, 25, 450, 310.89, 170.23, 340]\n",
        "print(precios)\n",
        "print(type(precios))\n",
        "mezcolanza = [12, 'octubre', 1492, True]\n",
        "lista_vacia = []\n",
        "\n",
        "# ============================\n",
        "# Usando el constructor list()\n",
        "# ============================\n",
        "lista_vacia_2 = list()\n",
        "lista_3 = list(range(0,30,2))\n",
        "print(lista_3)\n",
        "lista_4 = list(range(29,0,-2))\n",
        "print(lista_4)\n",
        "lista_5 = list('Mariana Sofia')\n",
        "print(lista_5)\n",
        "frase = 'Mariana Sofia Delgado Solano'\n",
        "lista_6 = frase.split()\n",
        "print(lista_6)"
      ]
    },
    {
      "cell_type": "markdown",
      "source": [
        "## Operaciones\n",
        "### Operador +\n",
        "- Concatenar o pegar los elementos de una lista al final de otra.\n",
        "\n",
        "### Operador *\n",
        "- Repetir la secuencia de elementos de la lista tantas veces como lo indique el valor que acompaña el operador."
      ],
      "metadata": {
        "id": "Py3cfNBdQ91w"
      }
    },
    {
      "cell_type": "code",
      "source": [
        "dias_laborales = [\"Lunes\", \"Martes\", \"Miercoles\", \"Jueves\", \"Viernes\"]\n",
        "\n",
        "colores_primarios = [\"Rojo\", \"Amarillo\", \"Azul\"]\n",
        "\n",
        "precios = [205.30, 107.18, 25, 450, 310.89, 170.23, 340]\n",
        "\n",
        "# Acceso a los elementos de una lista\n",
        "\n",
        "print(dias_laborales[0])\n",
        "print(dias_laborales[-1])\n",
        "print(dias_laborales[-5])\n",
        "\n",
        "# Operador +\n",
        "\n",
        "fin_semana =[\"Sabado\", \"Domingo\"]\n",
        "semana = dias_laborales + fin_semana\n",
        "print(semana)\n",
        "\n",
        "# Operador *\n",
        "colores_repetidos = colores_primarios * 3\n",
        "print(colores_repetidos)\n",
        "\n"
      ],
      "metadata": {
        "colab": {
          "base_uri": "https://localhost:8080/"
        },
        "id": "R4EtM7LOR22N",
        "outputId": "096ca6ea-c989-48af-bf2a-95cd5a5a8582"
      },
      "execution_count": 5,
      "outputs": [
        {
          "output_type": "stream",
          "name": "stdout",
          "text": [
            "Lunes\n",
            "Viernes\n",
            "Lunes\n",
            "['Lunes', 'Martes', 'Miercoles', 'Jueves', 'Viernes', 'Sabado', 'Domingo']\n",
            "['Rojo', 'Amarillo', 'Azul', 'Rojo', 'Amarillo', 'Azul', 'Rojo', 'Amarillo', 'Azul']\n"
          ]
        }
      ]
    },
    {
      "cell_type": "markdown",
      "source": [
        "## Funciones asociadas a las listas\n"
      ],
      "metadata": {
        "id": "K3MqkQXBUJIG"
      }
    },
    {
      "cell_type": "code",
      "source": [
        "dias_laborales = [\"Lunes\", \"Martes\", \"Miercoles\", \"Jueves\", \"Viernes\"]\n",
        "\n",
        "colores_primarios = [\"Rojo\", \"Amarillo\", \"Azul\"]\n",
        "\n",
        "precios = [205.30, 107.18, 25, 450, 310.89, 170.23, 340]\n",
        "\n",
        "pares = list(range(0,30,2))\n",
        "print(lista_3)\n",
        "impares = list(range(29,0,-2))\n",
        "\n",
        "colores_repetidos = colores_primarios * 3\n",
        "\n",
        "# append(): agrega un elemento al final de la lista\n",
        "dias_laborales.append(\"Sabado\")\n",
        "print(dias_laborales)\n",
        "\n",
        "# len(): total de elementos de la lista\n",
        "print('Total de precios = ', len(precios))\n",
        "\n",
        "# count(): cuenta el numero de veces que aparece un elemento en la lista\n",
        "print(f\"El lunes aparece {dias_laborales.cout('Lunes')} vez(veces)\")\n",
        "\n",
        "# insert(): agrega en la posicion indicada por el indice el nuevo valor, desplazando los demas elementos hacia la derecha. Si el indice es mayor al tamaño de la lista, lo agrego al final.\n",
        "colores_primarios.insert(2, \"Verde\")\n",
        "print(colores_primarios)\n",
        "\n",
        "# remove(): quita el elemento de la lista. Si el elemento no está lanza una excepcion.\n",
        "dias_laborales.remove(\"Sabado\")\n",
        "print(dias_laborales)\n",
        "\n",
        "# sort(): ordena la lista de menor a mayor\n",
        "precios.sort()\n",
        "print(precios)\n",
        "precios.sort(reverse=True)\n",
        "print(precios)\n",
        "\n",
        "# reverse():\n",
        "\n",
        "# pop():\n",
        "\n",
        "# clear():\n",
        "\n",
        "# del\n"
      ],
      "metadata": {
        "id": "FeOKkYIPUVKi"
      },
      "execution_count": null,
      "outputs": []
    },
    {
      "cell_type": "code",
      "source": [],
      "metadata": {
        "id": "cWLLFFTFjv31"
      },
      "execution_count": null,
      "outputs": []
    },
    {
      "cell_type": "markdown",
      "source": [
        "## Particion o division de listas (slicing o rebanadas)\n",
        "\n",
        "- Se pueden generar sublistas a partir de una lista por medio de la participacion (division) o slicing.\n",
        "- Para obtener una sublista se usa la sintaxis: ```sublista = lista[inicio:fin:n]```"
      ],
      "metadata": {
        "id": "o21JIEf_f_U1"
      }
    },
    {
      "cell_type": "code",
      "source": [
        "## se crea una lista de numeros enteros\n",
        "lista_1 = [1,2,3,4,5,6]\n",
        "\n",
        "# sublista con los elementos de las posiciones 0 a la 2 inclusive\n",
        "sublista_1 = lista_1[0:3]\n",
        "print(sublista_1)\n",
        "\n",
        "# sublista con los elementos de las posiciones 0 a la 3 inclusive\n",
        "sublista_2 = lista_1[:4]\n",
        "print(sublista_2)\n",
        "\n",
        "# sublista con los elementos de las posiciones 3 a la 5 inclusive\n",
        "sublista_3 = lista_1[3:]\n",
        "print(sublista_3)\n",
        "\n",
        "# sublista con los elementos desde el inicio hasta el final, con saltos de a 2\n",
        "sublista_4 = lista_1[::2]\n",
        "print(sublista_4)"
      ],
      "metadata": {
        "id": "4KzSqufVgygv"
      },
      "execution_count": null,
      "outputs": []
    }
  ]
}